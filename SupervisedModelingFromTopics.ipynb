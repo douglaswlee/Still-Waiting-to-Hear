{
 "cells": [
  {
   "cell_type": "markdown",
   "metadata": {},
   "source": [
    "### Bring in relevant data"
   ]
  },
  {
   "cell_type": "markdown",
   "metadata": {},
   "source": [
    "#### Comments for each submission (document)"
   ]
  },
  {
   "cell_type": "code",
   "execution_count": 1,
   "metadata": {},
   "outputs": [],
   "source": [
    "import pickle\n",
    "\n",
    "with open('new_reddit_topic_comments.pkl', 'rb') as pikkle:\n",
    "    sub_comments = pickle.load(pikkle)"
   ]
  },
  {
   "cell_type": "markdown",
   "metadata": {},
   "source": [
    "#### Submissions (documents)"
   ]
  },
  {
   "cell_type": "code",
   "execution_count": 2,
   "metadata": {},
   "outputs": [],
   "source": [
    "with open('new_reddit_topics.pkl', 'rb') as pikkle2:\n",
    "    sub_df = pickle.load(pikkle2)"
   ]
  },
  {
   "cell_type": "markdown",
   "metadata": {},
   "source": [
    "#### Document-topic matrix"
   ]
  },
  {
   "cell_type": "code",
   "execution_count": 3,
   "metadata": {},
   "outputs": [],
   "source": [
    "with open('nmf_doc_top_5_29.pkl', 'rb') as pikkle3:\n",
    "    doc_top = pickle.load(pikkle3)"
   ]
  },
  {
   "cell_type": "markdown",
   "metadata": {},
   "source": [
    "#### Topic list"
   ]
  },
  {
   "cell_type": "code",
   "execution_count": 4,
   "metadata": {},
   "outputs": [],
   "source": [
    "with open('topic_list_5_29.pkl', 'rb') as pikkle4:\n",
    "    topic_list = pickle.load(pikkle4)"
   ]
  },
  {
   "cell_type": "markdown",
   "metadata": {},
   "source": [
    "### Start putting together feature matrix"
   ]
  },
  {
   "cell_type": "code",
   "execution_count": 5,
   "metadata": {},
   "outputs": [],
   "source": [
    "import pandas as pd\n",
    "import numpy as np"
   ]
  },
  {
   "cell_type": "code",
   "execution_count": 6,
   "metadata": {},
   "outputs": [
    {
     "name": "stderr",
     "output_type": "stream",
     "text": [
      "/anaconda3/lib/python3.6/site-packages/numpy/core/fromnumeric.py:52: FutureWarning: 'argmax' is deprecated. Use 'idxmax' instead. The behavior of 'argmax' will be corrected to return the positional maximum in the future. Use 'series.values.argmax' to get the position of the maximum now.\n",
      "  return getattr(obj, method)(*args, **kwds)\n"
     ]
    }
   ],
   "source": [
    "doc_top_mat = pd.DataFrame(doc_top)\n",
    "doc_top_mat['TopicNum'] = doc_top_mat.apply(np.argmax, axis=1)"
   ]
  },
  {
   "cell_type": "code",
   "execution_count": 7,
   "metadata": {},
   "outputs": [],
   "source": [
    "doc_top_mat['MaxTopicWt'] = doc_top_mat.iloc[:, :15].max(axis=1)\n",
    "doc_top_mat['PrimaryTopic'] = [topic_list[x] for x in doc_top_mat['TopicNum']]"
   ]
  },
  {
   "cell_type": "code",
   "execution_count": 8,
   "metadata": {},
   "outputs": [],
   "source": [
    "sub_df.drop('created', axis=1, inplace=True)"
   ]
  },
  {
   "cell_type": "code",
   "execution_count": 9,
   "metadata": {},
   "outputs": [],
   "source": [
    "sub_df = pd.concat([sub_df, doc_top_mat], axis=1)"
   ]
  },
  {
   "cell_type": "code",
   "execution_count": 10,
   "metadata": {},
   "outputs": [
    {
     "data": {
      "text/plain": [
       "(988, 25)"
      ]
     },
     "execution_count": 10,
     "metadata": {},
     "output_type": "execute_result"
    }
   ],
   "source": [
    "sub_df.shape"
   ]
  },
  {
   "cell_type": "code",
   "execution_count": 11,
   "metadata": {},
   "outputs": [
    {
     "data": {
      "text/html": [
       "<div>\n",
       "<style scoped>\n",
       "    .dataframe tbody tr th:only-of-type {\n",
       "        vertical-align: middle;\n",
       "    }\n",
       "\n",
       "    .dataframe tbody tr th {\n",
       "        vertical-align: top;\n",
       "    }\n",
       "\n",
       "    .dataframe thead th {\n",
       "        text-align: right;\n",
       "    }\n",
       "</style>\n",
       "<table border=\"1\" class=\"dataframe\">\n",
       "  <thead>\n",
       "    <tr style=\"text-align: right;\">\n",
       "      <th></th>\n",
       "      <th>author</th>\n",
       "      <th>comms_num</th>\n",
       "      <th>id</th>\n",
       "      <th>score</th>\n",
       "      <th>text</th>\n",
       "      <th>url</th>\n",
       "      <th>date_created</th>\n",
       "      <th>0</th>\n",
       "      <th>1</th>\n",
       "      <th>2</th>\n",
       "      <th>...</th>\n",
       "      <th>8</th>\n",
       "      <th>9</th>\n",
       "      <th>10</th>\n",
       "      <th>11</th>\n",
       "      <th>12</th>\n",
       "      <th>13</th>\n",
       "      <th>14</th>\n",
       "      <th>TopicNum</th>\n",
       "      <th>MaxTopicWt</th>\n",
       "      <th>PrimaryTopic</th>\n",
       "    </tr>\n",
       "  </thead>\n",
       "  <tbody>\n",
       "    <tr>\n",
       "      <th>0</th>\n",
       "      <td>Cengineeringquestion</td>\n",
       "      <td>3</td>\n",
       "      <td>8n2alt</td>\n",
       "      <td>1</td>\n",
       "      <td>Writing your own letter of Rec? So the profess...</td>\n",
       "      <td>https://www.reddit.com/r/gradadmissions/commen...</td>\n",
       "      <td>2018-05-30 00:14:49</td>\n",
       "      <td>0.013881</td>\n",
       "      <td>0.014267</td>\n",
       "      <td>0.000000</td>\n",
       "      <td>...</td>\n",
       "      <td>0.000000</td>\n",
       "      <td>0.122650</td>\n",
       "      <td>0.174294</td>\n",
       "      <td>0.000000</td>\n",
       "      <td>0.000342</td>\n",
       "      <td>0.000000</td>\n",
       "      <td>0.002942</td>\n",
       "      <td>10</td>\n",
       "      <td>0.174294</td>\n",
       "      <td>Letter_of_Recommendation</td>\n",
       "    </tr>\n",
       "    <tr>\n",
       "      <th>1</th>\n",
       "      <td>Saturdalia</td>\n",
       "      <td>2</td>\n",
       "      <td>8n23o7</td>\n",
       "      <td>11</td>\n",
       "      <td>Getting academic references when you're long r...</td>\n",
       "      <td>https://www.reddit.com/r/gradadmissions/commen...</td>\n",
       "      <td>2018-05-29 23:51:51</td>\n",
       "      <td>0.032322</td>\n",
       "      <td>0.020127</td>\n",
       "      <td>0.002968</td>\n",
       "      <td>...</td>\n",
       "      <td>0.062382</td>\n",
       "      <td>0.001818</td>\n",
       "      <td>0.097441</td>\n",
       "      <td>0.000000</td>\n",
       "      <td>0.000000</td>\n",
       "      <td>0.000000</td>\n",
       "      <td>0.022731</td>\n",
       "      <td>10</td>\n",
       "      <td>0.097441</td>\n",
       "      <td>Letter_of_Recommendation</td>\n",
       "    </tr>\n",
       "    <tr>\n",
       "      <th>2</th>\n",
       "      <td>HoldenCoughfield</td>\n",
       "      <td>1</td>\n",
       "      <td>8n1rna</td>\n",
       "      <td>1</td>\n",
       "      <td>Applying to PhD Programs vs. Masters - Initial...</td>\n",
       "      <td>https://www.reddit.com/r/gradadmissions/commen...</td>\n",
       "      <td>2018-05-29 23:11:21</td>\n",
       "      <td>0.000000</td>\n",
       "      <td>0.000000</td>\n",
       "      <td>0.000000</td>\n",
       "      <td>...</td>\n",
       "      <td>0.000000</td>\n",
       "      <td>0.008920</td>\n",
       "      <td>0.001835</td>\n",
       "      <td>0.003573</td>\n",
       "      <td>0.000000</td>\n",
       "      <td>0.004526</td>\n",
       "      <td>0.082262</td>\n",
       "      <td>4</td>\n",
       "      <td>0.219587</td>\n",
       "      <td>Application</td>\n",
       "    </tr>\n",
       "    <tr>\n",
       "      <th>3</th>\n",
       "      <td>Eldar333</td>\n",
       "      <td>1</td>\n",
       "      <td>8n1q2x</td>\n",
       "      <td>1</td>\n",
       "      <td>Contacting POIs Hey rising undergrad senior bi...</td>\n",
       "      <td>https://www.reddit.com/r/gradadmissions/commen...</td>\n",
       "      <td>2018-05-29 23:06:06</td>\n",
       "      <td>0.027157</td>\n",
       "      <td>0.000000</td>\n",
       "      <td>0.000000</td>\n",
       "      <td>...</td>\n",
       "      <td>0.053494</td>\n",
       "      <td>0.078663</td>\n",
       "      <td>0.018131</td>\n",
       "      <td>0.003474</td>\n",
       "      <td>0.000000</td>\n",
       "      <td>0.021361</td>\n",
       "      <td>0.117501</td>\n",
       "      <td>3</td>\n",
       "      <td>0.130491</td>\n",
       "      <td>Research</td>\n",
       "    </tr>\n",
       "    <tr>\n",
       "      <th>4</th>\n",
       "      <td>gohgoomah</td>\n",
       "      <td>1</td>\n",
       "      <td>8n0ld0</td>\n",
       "      <td>4</td>\n",
       "      <td>Seeking application advice to MS in Mental Hea...</td>\n",
       "      <td>https://www.reddit.com/r/gradadmissions/commen...</td>\n",
       "      <td>2018-05-29 20:45:47</td>\n",
       "      <td>0.000000</td>\n",
       "      <td>0.000000</td>\n",
       "      <td>0.046989</td>\n",
       "      <td>...</td>\n",
       "      <td>0.109760</td>\n",
       "      <td>0.037966</td>\n",
       "      <td>0.064394</td>\n",
       "      <td>0.061888</td>\n",
       "      <td>0.000000</td>\n",
       "      <td>0.023810</td>\n",
       "      <td>0.004044</td>\n",
       "      <td>8</td>\n",
       "      <td>0.109760</td>\n",
       "      <td>Grades</td>\n",
       "    </tr>\n",
       "  </tbody>\n",
       "</table>\n",
       "<p>5 rows × 25 columns</p>\n",
       "</div>"
      ],
      "text/plain": [
       "                 author  comms_num      id  score  \\\n",
       "0  Cengineeringquestion          3  8n2alt      1   \n",
       "1            Saturdalia          2  8n23o7     11   \n",
       "2      HoldenCoughfield          1  8n1rna      1   \n",
       "3              Eldar333          1  8n1q2x      1   \n",
       "4             gohgoomah          1  8n0ld0      4   \n",
       "\n",
       "                                                text  \\\n",
       "0  Writing your own letter of Rec? So the profess...   \n",
       "1  Getting academic references when you're long r...   \n",
       "2  Applying to PhD Programs vs. Masters - Initial...   \n",
       "3  Contacting POIs Hey rising undergrad senior bi...   \n",
       "4  Seeking application advice to MS in Mental Hea...   \n",
       "\n",
       "                                                 url        date_created  \\\n",
       "0  https://www.reddit.com/r/gradadmissions/commen... 2018-05-30 00:14:49   \n",
       "1  https://www.reddit.com/r/gradadmissions/commen... 2018-05-29 23:51:51   \n",
       "2  https://www.reddit.com/r/gradadmissions/commen... 2018-05-29 23:11:21   \n",
       "3  https://www.reddit.com/r/gradadmissions/commen... 2018-05-29 23:06:06   \n",
       "4  https://www.reddit.com/r/gradadmissions/commen... 2018-05-29 20:45:47   \n",
       "\n",
       "          0         1         2            ...                    8         9  \\\n",
       "0  0.013881  0.014267  0.000000            ...             0.000000  0.122650   \n",
       "1  0.032322  0.020127  0.002968            ...             0.062382  0.001818   \n",
       "2  0.000000  0.000000  0.000000            ...             0.000000  0.008920   \n",
       "3  0.027157  0.000000  0.000000            ...             0.053494  0.078663   \n",
       "4  0.000000  0.000000  0.046989            ...             0.109760  0.037966   \n",
       "\n",
       "         10        11        12        13        14  TopicNum  MaxTopicWt  \\\n",
       "0  0.174294  0.000000  0.000342  0.000000  0.002942        10    0.174294   \n",
       "1  0.097441  0.000000  0.000000  0.000000  0.022731        10    0.097441   \n",
       "2  0.001835  0.003573  0.000000  0.004526  0.082262         4    0.219587   \n",
       "3  0.018131  0.003474  0.000000  0.021361  0.117501         3    0.130491   \n",
       "4  0.064394  0.061888  0.000000  0.023810  0.004044         8    0.109760   \n",
       "\n",
       "               PrimaryTopic  \n",
       "0  Letter_of_Recommendation  \n",
       "1  Letter_of_Recommendation  \n",
       "2               Application  \n",
       "3                  Research  \n",
       "4                    Grades  \n",
       "\n",
       "[5 rows x 25 columns]"
      ]
     },
     "execution_count": 11,
     "metadata": {},
     "output_type": "execute_result"
    }
   ],
   "source": [
    "sub_df.head()"
   ]
  },
  {
   "cell_type": "markdown",
   "metadata": {},
   "source": [
    "#### Check if the OP returned and thanked anyone"
   ]
  },
  {
   "cell_type": "code",
   "execution_count": 12,
   "metadata": {},
   "outputs": [],
   "source": [
    "subs_and_comments = sub_df.merge(sub_comments, on='id', how='outer')"
   ]
  },
  {
   "cell_type": "code",
   "execution_count": 13,
   "metadata": {},
   "outputs": [
    {
     "data": {
      "text/plain": [
       "(6007, 29)"
      ]
     },
     "execution_count": 13,
     "metadata": {},
     "output_type": "execute_result"
    }
   ],
   "source": [
    "subs_and_comments.shape"
   ]
  },
  {
   "cell_type": "code",
   "execution_count": 14,
   "metadata": {},
   "outputs": [],
   "source": [
    "subs_and_comments['op_comment'] = (subs_and_comments['author_x'] == subs_and_comments['author_y'])"
   ]
  },
  {
   "cell_type": "code",
   "execution_count": 15,
   "metadata": {},
   "outputs": [
    {
     "data": {
      "text/html": [
       "<div>\n",
       "<style scoped>\n",
       "    .dataframe tbody tr th:only-of-type {\n",
       "        vertical-align: middle;\n",
       "    }\n",
       "\n",
       "    .dataframe tbody tr th {\n",
       "        vertical-align: top;\n",
       "    }\n",
       "\n",
       "    .dataframe thead th {\n",
       "        text-align: right;\n",
       "    }\n",
       "</style>\n",
       "<table border=\"1\" class=\"dataframe\">\n",
       "  <thead>\n",
       "    <tr style=\"text-align: right;\">\n",
       "      <th></th>\n",
       "      <th>author_x</th>\n",
       "      <th>comms_num</th>\n",
       "      <th>id</th>\n",
       "      <th>score_x</th>\n",
       "      <th>text</th>\n",
       "      <th>url</th>\n",
       "      <th>date_created</th>\n",
       "      <th>0</th>\n",
       "      <th>1</th>\n",
       "      <th>2</th>\n",
       "      <th>...</th>\n",
       "      <th>13</th>\n",
       "      <th>14</th>\n",
       "      <th>TopicNum</th>\n",
       "      <th>MaxTopicWt</th>\n",
       "      <th>PrimaryTopic</th>\n",
       "      <th>author_y</th>\n",
       "      <th>body</th>\n",
       "      <th>created</th>\n",
       "      <th>score_y</th>\n",
       "      <th>op_comment</th>\n",
       "    </tr>\n",
       "  </thead>\n",
       "  <tbody>\n",
       "    <tr>\n",
       "      <th>0</th>\n",
       "      <td>Cengineeringquestion</td>\n",
       "      <td>3</td>\n",
       "      <td>8n2alt</td>\n",
       "      <td>1</td>\n",
       "      <td>Writing your own letter of Rec? So the profess...</td>\n",
       "      <td>https://www.reddit.com/r/gradadmissions/commen...</td>\n",
       "      <td>2018-05-30 00:14:49</td>\n",
       "      <td>0.013881</td>\n",
       "      <td>0.014267</td>\n",
       "      <td>0.000000</td>\n",
       "      <td>...</td>\n",
       "      <td>0.0</td>\n",
       "      <td>0.002942</td>\n",
       "      <td>10</td>\n",
       "      <td>0.174294</td>\n",
       "      <td>Letter_of_Recommendation</td>\n",
       "      <td>riggorous</td>\n",
       "      <td>I'm not sure what you're asking. Yes, you need...</td>\n",
       "      <td>2018-05-30 00:19:46</td>\n",
       "      <td>2.0</td>\n",
       "      <td>False</td>\n",
       "    </tr>\n",
       "    <tr>\n",
       "      <th>1</th>\n",
       "      <td>Cengineeringquestion</td>\n",
       "      <td>3</td>\n",
       "      <td>8n2alt</td>\n",
       "      <td>1</td>\n",
       "      <td>Writing your own letter of Rec? So the profess...</td>\n",
       "      <td>https://www.reddit.com/r/gradadmissions/commen...</td>\n",
       "      <td>2018-05-30 00:14:49</td>\n",
       "      <td>0.013881</td>\n",
       "      <td>0.014267</td>\n",
       "      <td>0.000000</td>\n",
       "      <td>...</td>\n",
       "      <td>0.0</td>\n",
       "      <td>0.002942</td>\n",
       "      <td>10</td>\n",
       "      <td>0.174294</td>\n",
       "      <td>Letter_of_Recommendation</td>\n",
       "      <td>Cengineeringquestion</td>\n",
       "      <td>I told the head of the admissions committee (w...</td>\n",
       "      <td>2018-05-30 00:23:05</td>\n",
       "      <td>1.0</td>\n",
       "      <td>True</td>\n",
       "    </tr>\n",
       "    <tr>\n",
       "      <th>2</th>\n",
       "      <td>Cengineeringquestion</td>\n",
       "      <td>3</td>\n",
       "      <td>8n2alt</td>\n",
       "      <td>1</td>\n",
       "      <td>Writing your own letter of Rec? So the profess...</td>\n",
       "      <td>https://www.reddit.com/r/gradadmissions/commen...</td>\n",
       "      <td>2018-05-30 00:14:49</td>\n",
       "      <td>0.013881</td>\n",
       "      <td>0.014267</td>\n",
       "      <td>0.000000</td>\n",
       "      <td>...</td>\n",
       "      <td>0.0</td>\n",
       "      <td>0.002942</td>\n",
       "      <td>10</td>\n",
       "      <td>0.174294</td>\n",
       "      <td>Letter_of_Recommendation</td>\n",
       "      <td>riggorous</td>\n",
       "      <td>Proceed as you would if they didn't. I don't s...</td>\n",
       "      <td>2018-05-30 00:25:40</td>\n",
       "      <td>1.0</td>\n",
       "      <td>False</td>\n",
       "    </tr>\n",
       "    <tr>\n",
       "      <th>3</th>\n",
       "      <td>Saturdalia</td>\n",
       "      <td>2</td>\n",
       "      <td>8n23o7</td>\n",
       "      <td>11</td>\n",
       "      <td>Getting academic references when you're long r...</td>\n",
       "      <td>https://www.reddit.com/r/gradadmissions/commen...</td>\n",
       "      <td>2018-05-29 23:51:51</td>\n",
       "      <td>0.032322</td>\n",
       "      <td>0.020127</td>\n",
       "      <td>0.002968</td>\n",
       "      <td>...</td>\n",
       "      <td>0.0</td>\n",
       "      <td>0.022731</td>\n",
       "      <td>10</td>\n",
       "      <td>0.097441</td>\n",
       "      <td>Letter_of_Recommendation</td>\n",
       "      <td>Becroki</td>\n",
       "      <td>I was in a similar situation a couple years ag...</td>\n",
       "      <td>2018-05-30 00:30:21</td>\n",
       "      <td>5.0</td>\n",
       "      <td>False</td>\n",
       "    </tr>\n",
       "    <tr>\n",
       "      <th>4</th>\n",
       "      <td>Saturdalia</td>\n",
       "      <td>2</td>\n",
       "      <td>8n23o7</td>\n",
       "      <td>11</td>\n",
       "      <td>Getting academic references when you're long r...</td>\n",
       "      <td>https://www.reddit.com/r/gradadmissions/commen...</td>\n",
       "      <td>2018-05-29 23:51:51</td>\n",
       "      <td>0.032322</td>\n",
       "      <td>0.020127</td>\n",
       "      <td>0.002968</td>\n",
       "      <td>...</td>\n",
       "      <td>0.0</td>\n",
       "      <td>0.022731</td>\n",
       "      <td>10</td>\n",
       "      <td>0.097441</td>\n",
       "      <td>Letter_of_Recommendation</td>\n",
       "      <td>riggorous</td>\n",
       "      <td>4 years is not that long and assuming you actu...</td>\n",
       "      <td>2018-05-30 01:06:38</td>\n",
       "      <td>1.0</td>\n",
       "      <td>False</td>\n",
       "    </tr>\n",
       "  </tbody>\n",
       "</table>\n",
       "<p>5 rows × 30 columns</p>\n",
       "</div>"
      ],
      "text/plain": [
       "               author_x  comms_num      id  score_x  \\\n",
       "0  Cengineeringquestion          3  8n2alt        1   \n",
       "1  Cengineeringquestion          3  8n2alt        1   \n",
       "2  Cengineeringquestion          3  8n2alt        1   \n",
       "3            Saturdalia          2  8n23o7       11   \n",
       "4            Saturdalia          2  8n23o7       11   \n",
       "\n",
       "                                                text  \\\n",
       "0  Writing your own letter of Rec? So the profess...   \n",
       "1  Writing your own letter of Rec? So the profess...   \n",
       "2  Writing your own letter of Rec? So the profess...   \n",
       "3  Getting academic references when you're long r...   \n",
       "4  Getting academic references when you're long r...   \n",
       "\n",
       "                                                 url        date_created  \\\n",
       "0  https://www.reddit.com/r/gradadmissions/commen... 2018-05-30 00:14:49   \n",
       "1  https://www.reddit.com/r/gradadmissions/commen... 2018-05-30 00:14:49   \n",
       "2  https://www.reddit.com/r/gradadmissions/commen... 2018-05-30 00:14:49   \n",
       "3  https://www.reddit.com/r/gradadmissions/commen... 2018-05-29 23:51:51   \n",
       "4  https://www.reddit.com/r/gradadmissions/commen... 2018-05-29 23:51:51   \n",
       "\n",
       "          0         1         2     ...       13        14  TopicNum  \\\n",
       "0  0.013881  0.014267  0.000000     ...      0.0  0.002942        10   \n",
       "1  0.013881  0.014267  0.000000     ...      0.0  0.002942        10   \n",
       "2  0.013881  0.014267  0.000000     ...      0.0  0.002942        10   \n",
       "3  0.032322  0.020127  0.002968     ...      0.0  0.022731        10   \n",
       "4  0.032322  0.020127  0.002968     ...      0.0  0.022731        10   \n",
       "\n",
       "   MaxTopicWt              PrimaryTopic              author_y  \\\n",
       "0    0.174294  Letter_of_Recommendation             riggorous   \n",
       "1    0.174294  Letter_of_Recommendation  Cengineeringquestion   \n",
       "2    0.174294  Letter_of_Recommendation             riggorous   \n",
       "3    0.097441  Letter_of_Recommendation               Becroki   \n",
       "4    0.097441  Letter_of_Recommendation             riggorous   \n",
       "\n",
       "                                                body             created  \\\n",
       "0  I'm not sure what you're asking. Yes, you need... 2018-05-30 00:19:46   \n",
       "1  I told the head of the admissions committee (w... 2018-05-30 00:23:05   \n",
       "2  Proceed as you would if they didn't. I don't s... 2018-05-30 00:25:40   \n",
       "3  I was in a similar situation a couple years ag... 2018-05-30 00:30:21   \n",
       "4  4 years is not that long and assuming you actu... 2018-05-30 01:06:38   \n",
       "\n",
       "   score_y  op_comment  \n",
       "0      2.0       False  \n",
       "1      1.0        True  \n",
       "2      1.0       False  \n",
       "3      5.0       False  \n",
       "4      1.0       False  \n",
       "\n",
       "[5 rows x 30 columns]"
      ]
     },
     "execution_count": 15,
     "metadata": {},
     "output_type": "execute_result"
    }
   ],
   "source": [
    "subs_and_comments.head()"
   ]
  },
  {
   "cell_type": "code",
   "execution_count": 16,
   "metadata": {},
   "outputs": [],
   "source": [
    "op_add_comms = subs_and_comments[subs_and_comments['op_comment']].groupby('id')['body'].apply(lambda x: ' '.join(x)).reset_index().reset_index()"
   ]
  },
  {
   "cell_type": "code",
   "execution_count": 17,
   "metadata": {},
   "outputs": [],
   "source": [
    "thanks = ['thank', 'thank you', 'thanks', 'thx', 'tyvm', 'tysm', 'good to know', 'good to hear']"
   ]
  },
  {
   "cell_type": "code",
   "execution_count": 18,
   "metadata": {},
   "outputs": [],
   "source": [
    "op_add_comms['thanks'] = op_add_comms['body'].apply(lambda x: any(substring in x.lower() for substring in thanks))"
   ]
  },
  {
   "cell_type": "code",
   "execution_count": 19,
   "metadata": {},
   "outputs": [
    {
     "data": {
      "text/html": [
       "<div>\n",
       "<style scoped>\n",
       "    .dataframe tbody tr th:only-of-type {\n",
       "        vertical-align: middle;\n",
       "    }\n",
       "\n",
       "    .dataframe tbody tr th {\n",
       "        vertical-align: top;\n",
       "    }\n",
       "\n",
       "    .dataframe thead th {\n",
       "        text-align: right;\n",
       "    }\n",
       "</style>\n",
       "<table border=\"1\" class=\"dataframe\">\n",
       "  <thead>\n",
       "    <tr style=\"text-align: right;\">\n",
       "      <th></th>\n",
       "      <th>index</th>\n",
       "      <th>id</th>\n",
       "      <th>body</th>\n",
       "      <th>thanks</th>\n",
       "    </tr>\n",
       "  </thead>\n",
       "  <tbody>\n",
       "    <tr>\n",
       "      <th>0</th>\n",
       "      <td>0</td>\n",
       "      <td>82qbc4</td>\n",
       "      <td>Thanks! My enthusiasm jumping off the screen! ...</td>\n",
       "      <td>True</td>\n",
       "    </tr>\n",
       "    <tr>\n",
       "      <th>1</th>\n",
       "      <td>1</td>\n",
       "      <td>82ronf</td>\n",
       "      <td>Alright. Thanks for the input. Even I was thin...</td>\n",
       "      <td>True</td>\n",
       "    </tr>\n",
       "    <tr>\n",
       "      <th>2</th>\n",
       "      <td>2</td>\n",
       "      <td>82s4dp</td>\n",
       "      <td>That's awesome!  Good to know from someone fir...</td>\n",
       "      <td>True</td>\n",
       "    </tr>\n",
       "    <tr>\n",
       "      <th>3</th>\n",
       "      <td>3</td>\n",
       "      <td>82sh21</td>\n",
       "      <td>Thanks for the reply!</td>\n",
       "      <td>True</td>\n",
       "    </tr>\n",
       "    <tr>\n",
       "      <th>4</th>\n",
       "      <td>4</td>\n",
       "      <td>82sj6o</td>\n",
       "      <td>Interesting my school actually did sign. Thank...</td>\n",
       "      <td>True</td>\n",
       "    </tr>\n",
       "    <tr>\n",
       "      <th>5</th>\n",
       "      <td>5</td>\n",
       "      <td>82t325</td>\n",
       "      <td>update: it seems that I may have overreacted b...</td>\n",
       "      <td>True</td>\n",
       "    </tr>\n",
       "    <tr>\n",
       "      <th>6</th>\n",
       "      <td>6</td>\n",
       "      <td>82ucs1</td>\n",
       "      <td>Come April 16th.. we all need to cut ourselves...</td>\n",
       "      <td>False</td>\n",
       "    </tr>\n",
       "    <tr>\n",
       "      <th>7</th>\n",
       "      <td>7</td>\n",
       "      <td>82v9fu</td>\n",
       "      <td>But how would you compare the living condition...</td>\n",
       "      <td>False</td>\n",
       "    </tr>\n",
       "    <tr>\n",
       "      <th>8</th>\n",
       "      <td>8</td>\n",
       "      <td>82voxm</td>\n",
       "      <td>Thanks for that. Logically I know that, it’s j...</td>\n",
       "      <td>True</td>\n",
       "    </tr>\n",
       "    <tr>\n",
       "      <th>9</th>\n",
       "      <td>9</td>\n",
       "      <td>82w5mu</td>\n",
       "      <td>Thank you very much! I can't wait to get there...</td>\n",
       "      <td>True</td>\n",
       "    </tr>\n",
       "  </tbody>\n",
       "</table>\n",
       "</div>"
      ],
      "text/plain": [
       "   index      id                                               body  thanks\n",
       "0      0  82qbc4  Thanks! My enthusiasm jumping off the screen! ...    True\n",
       "1      1  82ronf  Alright. Thanks for the input. Even I was thin...    True\n",
       "2      2  82s4dp  That's awesome!  Good to know from someone fir...    True\n",
       "3      3  82sh21                              Thanks for the reply!    True\n",
       "4      4  82sj6o  Interesting my school actually did sign. Thank...    True\n",
       "5      5  82t325  update: it seems that I may have overreacted b...    True\n",
       "6      6  82ucs1  Come April 16th.. we all need to cut ourselves...   False\n",
       "7      7  82v9fu  But how would you compare the living condition...   False\n",
       "8      8  82voxm  Thanks for that. Logically I know that, it’s j...    True\n",
       "9      9  82w5mu  Thank you very much! I can't wait to get there...    True"
      ]
     },
     "execution_count": 19,
     "metadata": {},
     "output_type": "execute_result"
    }
   ],
   "source": [
    "op_add_comms.head(10)"
   ]
  },
  {
   "cell_type": "code",
   "execution_count": 20,
   "metadata": {},
   "outputs": [],
   "source": [
    "op_add_comms.drop('body', axis=1, inplace=True)"
   ]
  },
  {
   "cell_type": "code",
   "execution_count": 21,
   "metadata": {},
   "outputs": [],
   "source": [
    "subs_and_comments = subs_and_comments.merge(op_add_comms, on='id', how='outer')"
   ]
  },
  {
   "cell_type": "code",
   "execution_count": 22,
   "metadata": {},
   "outputs": [],
   "source": [
    "subs_and_comments['thanks'].fillna(False, inplace=True)"
   ]
  },
  {
   "cell_type": "code",
   "execution_count": 23,
   "metadata": {},
   "outputs": [],
   "source": [
    "sub_df = sub_df.merge(op_add_comms, on='id', how='outer')"
   ]
  },
  {
   "cell_type": "code",
   "execution_count": 24,
   "metadata": {},
   "outputs": [
    {
     "data": {
      "text/html": [
       "<div>\n",
       "<style scoped>\n",
       "    .dataframe tbody tr th:only-of-type {\n",
       "        vertical-align: middle;\n",
       "    }\n",
       "\n",
       "    .dataframe tbody tr th {\n",
       "        vertical-align: top;\n",
       "    }\n",
       "\n",
       "    .dataframe thead th {\n",
       "        text-align: right;\n",
       "    }\n",
       "</style>\n",
       "<table border=\"1\" class=\"dataframe\">\n",
       "  <thead>\n",
       "    <tr style=\"text-align: right;\">\n",
       "      <th></th>\n",
       "      <th>author</th>\n",
       "      <th>comms_num</th>\n",
       "      <th>id</th>\n",
       "      <th>score</th>\n",
       "      <th>text</th>\n",
       "      <th>url</th>\n",
       "      <th>date_created</th>\n",
       "      <th>0</th>\n",
       "      <th>1</th>\n",
       "      <th>2</th>\n",
       "      <th>...</th>\n",
       "      <th>10</th>\n",
       "      <th>11</th>\n",
       "      <th>12</th>\n",
       "      <th>13</th>\n",
       "      <th>14</th>\n",
       "      <th>TopicNum</th>\n",
       "      <th>MaxTopicWt</th>\n",
       "      <th>PrimaryTopic</th>\n",
       "      <th>index</th>\n",
       "      <th>thanks</th>\n",
       "    </tr>\n",
       "  </thead>\n",
       "  <tbody>\n",
       "    <tr>\n",
       "      <th>0</th>\n",
       "      <td>Cengineeringquestion</td>\n",
       "      <td>3</td>\n",
       "      <td>8n2alt</td>\n",
       "      <td>1</td>\n",
       "      <td>Writing your own letter of Rec? So the profess...</td>\n",
       "      <td>https://www.reddit.com/r/gradadmissions/commen...</td>\n",
       "      <td>2018-05-30 00:14:49</td>\n",
       "      <td>0.013881</td>\n",
       "      <td>0.014267</td>\n",
       "      <td>0.000000</td>\n",
       "      <td>...</td>\n",
       "      <td>0.174294</td>\n",
       "      <td>0.000000</td>\n",
       "      <td>0.000342</td>\n",
       "      <td>0.000000</td>\n",
       "      <td>0.002942</td>\n",
       "      <td>10</td>\n",
       "      <td>0.174294</td>\n",
       "      <td>Letter_of_Recommendation</td>\n",
       "      <td>560.0</td>\n",
       "      <td>False</td>\n",
       "    </tr>\n",
       "    <tr>\n",
       "      <th>1</th>\n",
       "      <td>Saturdalia</td>\n",
       "      <td>2</td>\n",
       "      <td>8n23o7</td>\n",
       "      <td>11</td>\n",
       "      <td>Getting academic references when you're long r...</td>\n",
       "      <td>https://www.reddit.com/r/gradadmissions/commen...</td>\n",
       "      <td>2018-05-29 23:51:51</td>\n",
       "      <td>0.032322</td>\n",
       "      <td>0.020127</td>\n",
       "      <td>0.002968</td>\n",
       "      <td>...</td>\n",
       "      <td>0.097441</td>\n",
       "      <td>0.000000</td>\n",
       "      <td>0.000000</td>\n",
       "      <td>0.000000</td>\n",
       "      <td>0.022731</td>\n",
       "      <td>10</td>\n",
       "      <td>0.097441</td>\n",
       "      <td>Letter_of_Recommendation</td>\n",
       "      <td>NaN</td>\n",
       "      <td>NaN</td>\n",
       "    </tr>\n",
       "    <tr>\n",
       "      <th>2</th>\n",
       "      <td>HoldenCoughfield</td>\n",
       "      <td>1</td>\n",
       "      <td>8n1rna</td>\n",
       "      <td>1</td>\n",
       "      <td>Applying to PhD Programs vs. Masters - Initial...</td>\n",
       "      <td>https://www.reddit.com/r/gradadmissions/commen...</td>\n",
       "      <td>2018-05-29 23:11:21</td>\n",
       "      <td>0.000000</td>\n",
       "      <td>0.000000</td>\n",
       "      <td>0.000000</td>\n",
       "      <td>...</td>\n",
       "      <td>0.001835</td>\n",
       "      <td>0.003573</td>\n",
       "      <td>0.000000</td>\n",
       "      <td>0.004526</td>\n",
       "      <td>0.082262</td>\n",
       "      <td>4</td>\n",
       "      <td>0.219587</td>\n",
       "      <td>Application</td>\n",
       "      <td>NaN</td>\n",
       "      <td>NaN</td>\n",
       "    </tr>\n",
       "    <tr>\n",
       "      <th>3</th>\n",
       "      <td>Eldar333</td>\n",
       "      <td>1</td>\n",
       "      <td>8n1q2x</td>\n",
       "      <td>1</td>\n",
       "      <td>Contacting POIs Hey rising undergrad senior bi...</td>\n",
       "      <td>https://www.reddit.com/r/gradadmissions/commen...</td>\n",
       "      <td>2018-05-29 23:06:06</td>\n",
       "      <td>0.027157</td>\n",
       "      <td>0.000000</td>\n",
       "      <td>0.000000</td>\n",
       "      <td>...</td>\n",
       "      <td>0.018131</td>\n",
       "      <td>0.003474</td>\n",
       "      <td>0.000000</td>\n",
       "      <td>0.021361</td>\n",
       "      <td>0.117501</td>\n",
       "      <td>3</td>\n",
       "      <td>0.130491</td>\n",
       "      <td>Research</td>\n",
       "      <td>NaN</td>\n",
       "      <td>NaN</td>\n",
       "    </tr>\n",
       "    <tr>\n",
       "      <th>4</th>\n",
       "      <td>gohgoomah</td>\n",
       "      <td>1</td>\n",
       "      <td>8n0ld0</td>\n",
       "      <td>4</td>\n",
       "      <td>Seeking application advice to MS in Mental Hea...</td>\n",
       "      <td>https://www.reddit.com/r/gradadmissions/commen...</td>\n",
       "      <td>2018-05-29 20:45:47</td>\n",
       "      <td>0.000000</td>\n",
       "      <td>0.000000</td>\n",
       "      <td>0.046989</td>\n",
       "      <td>...</td>\n",
       "      <td>0.064394</td>\n",
       "      <td>0.061888</td>\n",
       "      <td>0.000000</td>\n",
       "      <td>0.023810</td>\n",
       "      <td>0.004044</td>\n",
       "      <td>8</td>\n",
       "      <td>0.109760</td>\n",
       "      <td>Grades</td>\n",
       "      <td>NaN</td>\n",
       "      <td>NaN</td>\n",
       "    </tr>\n",
       "  </tbody>\n",
       "</table>\n",
       "<p>5 rows × 27 columns</p>\n",
       "</div>"
      ],
      "text/plain": [
       "                 author  comms_num      id  score  \\\n",
       "0  Cengineeringquestion          3  8n2alt      1   \n",
       "1            Saturdalia          2  8n23o7     11   \n",
       "2      HoldenCoughfield          1  8n1rna      1   \n",
       "3              Eldar333          1  8n1q2x      1   \n",
       "4             gohgoomah          1  8n0ld0      4   \n",
       "\n",
       "                                                text  \\\n",
       "0  Writing your own letter of Rec? So the profess...   \n",
       "1  Getting academic references when you're long r...   \n",
       "2  Applying to PhD Programs vs. Masters - Initial...   \n",
       "3  Contacting POIs Hey rising undergrad senior bi...   \n",
       "4  Seeking application advice to MS in Mental Hea...   \n",
       "\n",
       "                                                 url        date_created  \\\n",
       "0  https://www.reddit.com/r/gradadmissions/commen... 2018-05-30 00:14:49   \n",
       "1  https://www.reddit.com/r/gradadmissions/commen... 2018-05-29 23:51:51   \n",
       "2  https://www.reddit.com/r/gradadmissions/commen... 2018-05-29 23:11:21   \n",
       "3  https://www.reddit.com/r/gradadmissions/commen... 2018-05-29 23:06:06   \n",
       "4  https://www.reddit.com/r/gradadmissions/commen... 2018-05-29 20:45:47   \n",
       "\n",
       "          0         1         2   ...          10        11        12  \\\n",
       "0  0.013881  0.014267  0.000000   ...    0.174294  0.000000  0.000342   \n",
       "1  0.032322  0.020127  0.002968   ...    0.097441  0.000000  0.000000   \n",
       "2  0.000000  0.000000  0.000000   ...    0.001835  0.003573  0.000000   \n",
       "3  0.027157  0.000000  0.000000   ...    0.018131  0.003474  0.000000   \n",
       "4  0.000000  0.000000  0.046989   ...    0.064394  0.061888  0.000000   \n",
       "\n",
       "         13        14  TopicNum  MaxTopicWt              PrimaryTopic  index  \\\n",
       "0  0.000000  0.002942        10    0.174294  Letter_of_Recommendation  560.0   \n",
       "1  0.000000  0.022731        10    0.097441  Letter_of_Recommendation    NaN   \n",
       "2  0.004526  0.082262         4    0.219587               Application    NaN   \n",
       "3  0.021361  0.117501         3    0.130491                  Research    NaN   \n",
       "4  0.023810  0.004044         8    0.109760                    Grades    NaN   \n",
       "\n",
       "   thanks  \n",
       "0   False  \n",
       "1     NaN  \n",
       "2     NaN  \n",
       "3     NaN  \n",
       "4     NaN  \n",
       "\n",
       "[5 rows x 27 columns]"
      ]
     },
     "execution_count": 24,
     "metadata": {},
     "output_type": "execute_result"
    }
   ],
   "source": [
    "sub_df.head()"
   ]
  },
  {
   "cell_type": "code",
   "execution_count": 25,
   "metadata": {},
   "outputs": [],
   "source": [
    "sub_df['thanks'].fillna(False, inplace=True)"
   ]
  },
  {
   "cell_type": "code",
   "execution_count": 26,
   "metadata": {},
   "outputs": [
    {
     "data": {
      "text/html": [
       "<div>\n",
       "<style scoped>\n",
       "    .dataframe tbody tr th:only-of-type {\n",
       "        vertical-align: middle;\n",
       "    }\n",
       "\n",
       "    .dataframe tbody tr th {\n",
       "        vertical-align: top;\n",
       "    }\n",
       "\n",
       "    .dataframe thead th {\n",
       "        text-align: right;\n",
       "    }\n",
       "</style>\n",
       "<table border=\"1\" class=\"dataframe\">\n",
       "  <thead>\n",
       "    <tr style=\"text-align: right;\">\n",
       "      <th></th>\n",
       "      <th>author</th>\n",
       "      <th>comms_num</th>\n",
       "      <th>id</th>\n",
       "      <th>score</th>\n",
       "      <th>text</th>\n",
       "      <th>url</th>\n",
       "      <th>date_created</th>\n",
       "      <th>0</th>\n",
       "      <th>1</th>\n",
       "      <th>2</th>\n",
       "      <th>...</th>\n",
       "      <th>10</th>\n",
       "      <th>11</th>\n",
       "      <th>12</th>\n",
       "      <th>13</th>\n",
       "      <th>14</th>\n",
       "      <th>TopicNum</th>\n",
       "      <th>MaxTopicWt</th>\n",
       "      <th>PrimaryTopic</th>\n",
       "      <th>index</th>\n",
       "      <th>thanks</th>\n",
       "    </tr>\n",
       "  </thead>\n",
       "  <tbody>\n",
       "    <tr>\n",
       "      <th>0</th>\n",
       "      <td>Cengineeringquestion</td>\n",
       "      <td>3</td>\n",
       "      <td>8n2alt</td>\n",
       "      <td>1</td>\n",
       "      <td>Writing your own letter of Rec? So the profess...</td>\n",
       "      <td>https://www.reddit.com/r/gradadmissions/commen...</td>\n",
       "      <td>2018-05-30 00:14:49</td>\n",
       "      <td>0.013881</td>\n",
       "      <td>0.014267</td>\n",
       "      <td>0.000000</td>\n",
       "      <td>...</td>\n",
       "      <td>0.174294</td>\n",
       "      <td>0.000000</td>\n",
       "      <td>0.000342</td>\n",
       "      <td>0.000000</td>\n",
       "      <td>0.002942</td>\n",
       "      <td>10</td>\n",
       "      <td>0.174294</td>\n",
       "      <td>Letter_of_Recommendation</td>\n",
       "      <td>560.0</td>\n",
       "      <td>False</td>\n",
       "    </tr>\n",
       "    <tr>\n",
       "      <th>1</th>\n",
       "      <td>Saturdalia</td>\n",
       "      <td>2</td>\n",
       "      <td>8n23o7</td>\n",
       "      <td>11</td>\n",
       "      <td>Getting academic references when you're long r...</td>\n",
       "      <td>https://www.reddit.com/r/gradadmissions/commen...</td>\n",
       "      <td>2018-05-29 23:51:51</td>\n",
       "      <td>0.032322</td>\n",
       "      <td>0.020127</td>\n",
       "      <td>0.002968</td>\n",
       "      <td>...</td>\n",
       "      <td>0.097441</td>\n",
       "      <td>0.000000</td>\n",
       "      <td>0.000000</td>\n",
       "      <td>0.000000</td>\n",
       "      <td>0.022731</td>\n",
       "      <td>10</td>\n",
       "      <td>0.097441</td>\n",
       "      <td>Letter_of_Recommendation</td>\n",
       "      <td>NaN</td>\n",
       "      <td>False</td>\n",
       "    </tr>\n",
       "    <tr>\n",
       "      <th>2</th>\n",
       "      <td>HoldenCoughfield</td>\n",
       "      <td>1</td>\n",
       "      <td>8n1rna</td>\n",
       "      <td>1</td>\n",
       "      <td>Applying to PhD Programs vs. Masters - Initial...</td>\n",
       "      <td>https://www.reddit.com/r/gradadmissions/commen...</td>\n",
       "      <td>2018-05-29 23:11:21</td>\n",
       "      <td>0.000000</td>\n",
       "      <td>0.000000</td>\n",
       "      <td>0.000000</td>\n",
       "      <td>...</td>\n",
       "      <td>0.001835</td>\n",
       "      <td>0.003573</td>\n",
       "      <td>0.000000</td>\n",
       "      <td>0.004526</td>\n",
       "      <td>0.082262</td>\n",
       "      <td>4</td>\n",
       "      <td>0.219587</td>\n",
       "      <td>Application</td>\n",
       "      <td>NaN</td>\n",
       "      <td>False</td>\n",
       "    </tr>\n",
       "    <tr>\n",
       "      <th>3</th>\n",
       "      <td>Eldar333</td>\n",
       "      <td>1</td>\n",
       "      <td>8n1q2x</td>\n",
       "      <td>1</td>\n",
       "      <td>Contacting POIs Hey rising undergrad senior bi...</td>\n",
       "      <td>https://www.reddit.com/r/gradadmissions/commen...</td>\n",
       "      <td>2018-05-29 23:06:06</td>\n",
       "      <td>0.027157</td>\n",
       "      <td>0.000000</td>\n",
       "      <td>0.000000</td>\n",
       "      <td>...</td>\n",
       "      <td>0.018131</td>\n",
       "      <td>0.003474</td>\n",
       "      <td>0.000000</td>\n",
       "      <td>0.021361</td>\n",
       "      <td>0.117501</td>\n",
       "      <td>3</td>\n",
       "      <td>0.130491</td>\n",
       "      <td>Research</td>\n",
       "      <td>NaN</td>\n",
       "      <td>False</td>\n",
       "    </tr>\n",
       "    <tr>\n",
       "      <th>4</th>\n",
       "      <td>gohgoomah</td>\n",
       "      <td>1</td>\n",
       "      <td>8n0ld0</td>\n",
       "      <td>4</td>\n",
       "      <td>Seeking application advice to MS in Mental Hea...</td>\n",
       "      <td>https://www.reddit.com/r/gradadmissions/commen...</td>\n",
       "      <td>2018-05-29 20:45:47</td>\n",
       "      <td>0.000000</td>\n",
       "      <td>0.000000</td>\n",
       "      <td>0.046989</td>\n",
       "      <td>...</td>\n",
       "      <td>0.064394</td>\n",
       "      <td>0.061888</td>\n",
       "      <td>0.000000</td>\n",
       "      <td>0.023810</td>\n",
       "      <td>0.004044</td>\n",
       "      <td>8</td>\n",
       "      <td>0.109760</td>\n",
       "      <td>Grades</td>\n",
       "      <td>NaN</td>\n",
       "      <td>False</td>\n",
       "    </tr>\n",
       "  </tbody>\n",
       "</table>\n",
       "<p>5 rows × 27 columns</p>\n",
       "</div>"
      ],
      "text/plain": [
       "                 author  comms_num      id  score  \\\n",
       "0  Cengineeringquestion          3  8n2alt      1   \n",
       "1            Saturdalia          2  8n23o7     11   \n",
       "2      HoldenCoughfield          1  8n1rna      1   \n",
       "3              Eldar333          1  8n1q2x      1   \n",
       "4             gohgoomah          1  8n0ld0      4   \n",
       "\n",
       "                                                text  \\\n",
       "0  Writing your own letter of Rec? So the profess...   \n",
       "1  Getting academic references when you're long r...   \n",
       "2  Applying to PhD Programs vs. Masters - Initial...   \n",
       "3  Contacting POIs Hey rising undergrad senior bi...   \n",
       "4  Seeking application advice to MS in Mental Hea...   \n",
       "\n",
       "                                                 url        date_created  \\\n",
       "0  https://www.reddit.com/r/gradadmissions/commen... 2018-05-30 00:14:49   \n",
       "1  https://www.reddit.com/r/gradadmissions/commen... 2018-05-29 23:51:51   \n",
       "2  https://www.reddit.com/r/gradadmissions/commen... 2018-05-29 23:11:21   \n",
       "3  https://www.reddit.com/r/gradadmissions/commen... 2018-05-29 23:06:06   \n",
       "4  https://www.reddit.com/r/gradadmissions/commen... 2018-05-29 20:45:47   \n",
       "\n",
       "          0         1         2   ...          10        11        12  \\\n",
       "0  0.013881  0.014267  0.000000   ...    0.174294  0.000000  0.000342   \n",
       "1  0.032322  0.020127  0.002968   ...    0.097441  0.000000  0.000000   \n",
       "2  0.000000  0.000000  0.000000   ...    0.001835  0.003573  0.000000   \n",
       "3  0.027157  0.000000  0.000000   ...    0.018131  0.003474  0.000000   \n",
       "4  0.000000  0.000000  0.046989   ...    0.064394  0.061888  0.000000   \n",
       "\n",
       "         13        14  TopicNum  MaxTopicWt              PrimaryTopic  index  \\\n",
       "0  0.000000  0.002942        10    0.174294  Letter_of_Recommendation  560.0   \n",
       "1  0.000000  0.022731        10    0.097441  Letter_of_Recommendation    NaN   \n",
       "2  0.004526  0.082262         4    0.219587               Application    NaN   \n",
       "3  0.021361  0.117501         3    0.130491                  Research    NaN   \n",
       "4  0.023810  0.004044         8    0.109760                    Grades    NaN   \n",
       "\n",
       "   thanks  \n",
       "0   False  \n",
       "1   False  \n",
       "2   False  \n",
       "3   False  \n",
       "4   False  \n",
       "\n",
       "[5 rows x 27 columns]"
      ]
     },
     "execution_count": 26,
     "metadata": {},
     "output_type": "execute_result"
    }
   ],
   "source": [
    "sub_df.head()"
   ]
  },
  {
   "cell_type": "markdown",
   "metadata": {},
   "source": [
    "### Submission (document) characteristics"
   ]
  },
  {
   "cell_type": "markdown",
   "metadata": {},
   "source": [
    "#### Length"
   ]
  },
  {
   "cell_type": "code",
   "execution_count": 27,
   "metadata": {},
   "outputs": [],
   "source": [
    "sub_df['sub_len'] = [len(x.split(' ')) for x in sub_df['text']]"
   ]
  },
  {
   "cell_type": "markdown",
   "metadata": {},
   "source": [
    "#### Sentiment"
   ]
  },
  {
   "cell_type": "code",
   "execution_count": 28,
   "metadata": {},
   "outputs": [],
   "source": [
    "from vaderSentiment.vaderSentiment import SentimentIntensityAnalyzer\n",
    "\n",
    "analyser = SentimentIntensityAnalyzer()"
   ]
  },
  {
   "cell_type": "code",
   "execution_count": 29,
   "metadata": {},
   "outputs": [],
   "source": [
    "def sentiment_scores(doc):\n",
    "    snt = analyser.polarity_scores(doc)\n",
    "    return snt"
   ]
  },
  {
   "cell_type": "code",
   "execution_count": 30,
   "metadata": {},
   "outputs": [],
   "source": [
    "blah = sub_df['text'].apply(sentiment_scores)"
   ]
  },
  {
   "cell_type": "code",
   "execution_count": 31,
   "metadata": {},
   "outputs": [],
   "source": [
    "neg = [x['neg'] for x in blah]\n",
    "pos = [x['pos'] for x in blah]\n",
    "neu = [x['neu'] for x in blah]\n",
    "snt = [x['compound'] for x in blah]\n",
    "op_sent = pd.DataFrame({'usr_neg': neg, 'usr_pos': pos, 'usr_neu': neu, 'usr_snt': snt})"
   ]
  },
  {
   "cell_type": "code",
   "execution_count": 32,
   "metadata": {},
   "outputs": [],
   "source": [
    "sub_df = pd.concat([sub_df, op_sent], axis=1)"
   ]
  },
  {
   "cell_type": "markdown",
   "metadata": {},
   "source": [
    "#### Time posted"
   ]
  },
  {
   "cell_type": "code",
   "execution_count": 33,
   "metadata": {},
   "outputs": [],
   "source": [
    "from datetime import datetime, timedelta"
   ]
  },
  {
   "cell_type": "code",
   "execution_count": 34,
   "metadata": {},
   "outputs": [
    {
     "name": "stderr",
     "output_type": "stream",
     "text": [
      "/anaconda3/lib/python3.6/site-packages/IPython/core/interactiveshell.py:2910: FutureWarning: to_datetime is deprecated. Use self.to_pydatetime()\n",
      "  exec(code_obj, self.user_global_ns, self.user_ns)\n"
     ]
    },
    {
     "data": {
      "text/plain": [
       "datetime.datetime(2018, 5, 30, 0, 14, 49)"
      ]
     },
     "execution_count": 34,
     "metadata": {},
     "output_type": "execute_result"
    }
   ],
   "source": [
    "sub_df.iloc[0]['date_created'].to_datetime()"
   ]
  },
  {
   "cell_type": "code",
   "execution_count": 35,
   "metadata": {},
   "outputs": [],
   "source": [
    "imp_date = datetime(2018, 4, 15, 23, 59, 59)"
   ]
  },
  {
   "cell_type": "code",
   "execution_count": 36,
   "metadata": {},
   "outputs": [],
   "source": [
    "sub_df['time_from_deadline'] = [(x-imp_date).total_seconds() for x in sub_df['date_created']]"
   ]
  },
  {
   "cell_type": "markdown",
   "metadata": {},
   "source": [
    "### Add user features"
   ]
  },
  {
   "cell_type": "code",
   "execution_count": 37,
   "metadata": {},
   "outputs": [],
   "source": [
    "with open('op_attr.pkl', 'rb') as picle:\n",
    "    op_attr = pickle.load(picle)\n",
    "sub_df = pd.concat([sub_df, op_attr], axis=1)"
   ]
  },
  {
   "cell_type": "markdown",
   "metadata": {},
   "source": [
    "### FInally make feature matrix and filter out non-questions and too recent posts (done manually)"
   ]
  },
  {
   "cell_type": "code",
   "execution_count": 38,
   "metadata": {},
   "outputs": [],
   "source": [
    "class_test = sub_df[(sub_df['text'].str.find('?') != -1)].reset_index()"
   ]
  },
  {
   "cell_type": "code",
   "execution_count": 39,
   "metadata": {},
   "outputs": [
    {
     "data": {
      "text/plain": [
       "(848, 36)"
      ]
     },
     "execution_count": 39,
     "metadata": {},
     "output_type": "execute_result"
    }
   ],
   "source": [
    "class_test.shape"
   ]
  },
  {
   "cell_type": "code",
   "execution_count": 40,
   "metadata": {},
   "outputs": [],
   "source": [
    "class_test =  class_test.iloc[19:, :]"
   ]
  },
  {
   "cell_type": "code",
   "execution_count": 41,
   "metadata": {},
   "outputs": [
    {
     "data": {
      "text/plain": [
       "(829, 36)"
      ]
     },
     "execution_count": 41,
     "metadata": {},
     "output_type": "execute_result"
    }
   ],
   "source": [
    "class_test.shape"
   ]
  },
  {
   "cell_type": "code",
   "execution_count": 42,
   "metadata": {},
   "outputs": [
    {
     "data": {
      "text/plain": [
       "False    0.646562\n",
       "True     0.353438\n",
       "Name: thanks, dtype: float64"
      ]
     },
     "execution_count": 42,
     "metadata": {},
     "output_type": "execute_result"
    }
   ],
   "source": [
    "class_test['thanks'].value_counts(normalize=True)"
   ]
  },
  {
   "cell_type": "code",
   "execution_count": 43,
   "metadata": {},
   "outputs": [
    {
     "data": {
      "text/html": [
       "<div>\n",
       "<style scoped>\n",
       "    .dataframe tbody tr th:only-of-type {\n",
       "        vertical-align: middle;\n",
       "    }\n",
       "\n",
       "    .dataframe tbody tr th {\n",
       "        vertical-align: top;\n",
       "    }\n",
       "\n",
       "    .dataframe thead th {\n",
       "        text-align: right;\n",
       "    }\n",
       "</style>\n",
       "<table border=\"1\" class=\"dataframe\">\n",
       "  <thead>\n",
       "    <tr style=\"text-align: right;\">\n",
       "      <th></th>\n",
       "      <th>thanks</th>\n",
       "    </tr>\n",
       "    <tr>\n",
       "      <th>PrimaryTopic</th>\n",
       "      <th></th>\n",
       "    </tr>\n",
       "  </thead>\n",
       "  <tbody>\n",
       "    <tr>\n",
       "      <th>Admissions1</th>\n",
       "      <td>26.0</td>\n",
       "    </tr>\n",
       "    <tr>\n",
       "      <th>Admissions2</th>\n",
       "      <td>8.0</td>\n",
       "    </tr>\n",
       "    <tr>\n",
       "      <th>Application</th>\n",
       "      <td>15.0</td>\n",
       "    </tr>\n",
       "    <tr>\n",
       "      <th>CS_Math</th>\n",
       "      <td>11.0</td>\n",
       "    </tr>\n",
       "    <tr>\n",
       "      <th>GRE</th>\n",
       "      <td>33.0</td>\n",
       "    </tr>\n",
       "    <tr>\n",
       "      <th>Grades</th>\n",
       "      <td>22.0</td>\n",
       "    </tr>\n",
       "    <tr>\n",
       "      <th>Interview</th>\n",
       "      <td>13.0</td>\n",
       "    </tr>\n",
       "    <tr>\n",
       "      <th>Letter_of_Recommendation</th>\n",
       "      <td>19.0</td>\n",
       "    </tr>\n",
       "    <tr>\n",
       "      <th>Offer</th>\n",
       "      <td>20.0</td>\n",
       "    </tr>\n",
       "    <tr>\n",
       "      <th>Programs1</th>\n",
       "      <td>12.0</td>\n",
       "    </tr>\n",
       "    <tr>\n",
       "      <th>Programs2</th>\n",
       "      <td>14.0</td>\n",
       "    </tr>\n",
       "    <tr>\n",
       "      <th>Programs3</th>\n",
       "      <td>18.0</td>\n",
       "    </tr>\n",
       "    <tr>\n",
       "      <th>Research</th>\n",
       "      <td>50.0</td>\n",
       "    </tr>\n",
       "    <tr>\n",
       "      <th>Schools1</th>\n",
       "      <td>19.0</td>\n",
       "    </tr>\n",
       "    <tr>\n",
       "      <th>Schools2</th>\n",
       "      <td>13.0</td>\n",
       "    </tr>\n",
       "  </tbody>\n",
       "</table>\n",
       "</div>"
      ],
      "text/plain": [
       "                          thanks\n",
       "PrimaryTopic                    \n",
       "Admissions1                 26.0\n",
       "Admissions2                  8.0\n",
       "Application                 15.0\n",
       "CS_Math                     11.0\n",
       "GRE                         33.0\n",
       "Grades                      22.0\n",
       "Interview                   13.0\n",
       "Letter_of_Recommendation    19.0\n",
       "Offer                       20.0\n",
       "Programs1                   12.0\n",
       "Programs2                   14.0\n",
       "Programs3                   18.0\n",
       "Research                    50.0\n",
       "Schools1                    19.0\n",
       "Schools2                    13.0"
      ]
     },
     "execution_count": 43,
     "metadata": {},
     "output_type": "execute_result"
    }
   ],
   "source": [
    "class_test.groupby('PrimaryTopic').sum()[['thanks']]"
   ]
  },
  {
   "cell_type": "markdown",
   "metadata": {},
   "source": [
    "#### Feature matrices broken down by the topics and user and document features."
   ]
  },
  {
   "cell_type": "code",
   "execution_count": 44,
   "metadata": {},
   "outputs": [],
   "source": [
    "topicfeat = [0,1,2,3,4,5,6,7,8,9,10,11,12,13,14]\n",
    "usrfeat = ['op_age', 'op_karma']\n",
    "docfeat = ['sub_len', 'usr_snt', 'time_from_deadline']"
   ]
  },
  {
   "cell_type": "code",
   "execution_count": 45,
   "metadata": {},
   "outputs": [],
   "source": [
    "allfeat = topicfeat + usrfeat + docfeat\n",
    "X_main = class_test[allfeat]"
   ]
  },
  {
   "cell_type": "code",
   "execution_count": 46,
   "metadata": {},
   "outputs": [],
   "source": [
    "y_main = [int(x) for x in class_test['thanks']]"
   ]
  },
  {
   "cell_type": "markdown",
   "metadata": {},
   "source": [
    "### Compare all models"
   ]
  },
  {
   "cell_type": "code",
   "execution_count": 47,
   "metadata": {},
   "outputs": [],
   "source": [
    "from sklearn.linear_model import LogisticRegression\n",
    "from sklearn import model_selection\n",
    "from sklearn import metrics\n",
    "from sklearn.metrics import confusion_matrix\n",
    "from sklearn import preprocessing\n",
    "\n",
    "import math\n",
    "import matplotlib.pyplot as plt"
   ]
  },
  {
   "cell_type": "code",
   "execution_count": 48,
   "metadata": {},
   "outputs": [],
   "source": [
    "plt.style.use('fivethirtyeight')"
   ]
  },
  {
   "cell_type": "code",
   "execution_count": 49,
   "metadata": {},
   "outputs": [],
   "source": [
    "def get_fits(model, split, features, response):\n",
    "        \n",
    "    idx = math.ceil(1-(split/100) * len(features))\n",
    "    Xtrain = features.iloc[idx:, :]\n",
    "    ytrain = response[idx:]\n",
    "    Xtest = features.iloc[:idx, :]\n",
    "    ytest = response[:idx]\n",
    "    #print(len(ytest))\n",
    "    \n",
    "    sc = preprocessing.StandardScaler()\n",
    "    Xtrain = sc.fit_transform(Xtrain)\n",
    "\n",
    "    clf = model.fit(Xtrain, ytrain)      \n",
    "    ypred = clf.predict(Xtrain)    \n",
    "    rec_tr = metrics.recall_score(ytrain, ypred)\n",
    "    \n",
    "    Xtest = sc.transform(Xtest)\n",
    "    ypred2 = clf.predict(Xtest)\n",
    "    TN, FP, FN, TP = confusion_matrix(ytest, ypred2).ravel()\n",
    "    rec = metrics.recall_score(ytest, ypred2)\n",
    "\n",
    "    coefs = model.coef_\n",
    "    \n",
    "    return rec, rec_tr, TP, TN, FP, FN, coefs"
   ]
  },
  {
   "cell_type": "code",
   "execution_count": 50,
   "metadata": {},
   "outputs": [],
   "source": [
    "def get_all_lr_results(split, features, response):\n",
    "    rec = []\n",
    "    spec = []\n",
    "    sp_re = []\n",
    "\n",
    "    TPs = []\n",
    "    FPs =[]\n",
    "    TNs = []\n",
    "    FNs = []\n",
    "\n",
    "    coefs=[]\n",
    "    \n",
    "    lr = LogisticRegression(class_weight='balanced')\n",
    "    for n in range(len(split)):\n",
    "        rec_lr, rectr_lr, TP, TN, FP, FN, coef = get_fits(lr, split[n], features, response)\n",
    "\n",
    "        rec.append(rec_lr)        \n",
    "        spec_lr = TN/(FP+TN)\n",
    "        spec.append(spec_lr)\n",
    "        sp_re.append((2*spec_lr*rec_lr)/(spec_lr+rec_lr))\n",
    "        \n",
    "        TPs.append(TP)\n",
    "        FPs.append(FP)\n",
    "        TNs.append(TN)\n",
    "        FNs.append(FN)\n",
    "    \n",
    "    return rec, spec, sp_re, TPs, FPs, TNs, FNs"
   ]
  },
  {
   "cell_type": "code",
   "execution_count": 51,
   "metadata": {},
   "outputs": [],
   "source": [
    "cols = [topicfeat, topicfeat+docfeat, topicfeat+usrfeat, topicfeat+docfeat+usrfeat]"
   ]
  },
  {
   "cell_type": "code",
   "execution_count": 52,
   "metadata": {},
   "outputs": [],
   "source": [
    "holdout_idx = math.ceil(.15*len(X_main))"
   ]
  },
  {
   "cell_type": "code",
   "execution_count": 53,
   "metadata": {},
   "outputs": [],
   "source": [
    "split = list(range(65, 86, 1))"
   ]
  },
  {
   "cell_type": "code",
   "execution_count": 54,
   "metadata": {},
   "outputs": [],
   "source": [
    "specrecf1 = []"
   ]
  },
  {
   "cell_type": "code",
   "execution_count": 55,
   "metadata": {},
   "outputs": [],
   "source": [
    "for col in cols:\n",
    "    X = X_main[col]\n",
    "    y = y_main\n",
    "    \n",
    "    X = X.iloc[holdout_idx:, :]\n",
    "    y = y[holdout_idx:]\n",
    "    \n",
    "    rec, spec, sp_re, TPs, FPs, TNs, FNs = get_all_lr_results(split, X, y)\n",
    "    \n",
    "    specrecf1.append(sp_re)"
   ]
  },
  {
   "cell_type": "code",
   "execution_count": 56,
   "metadata": {},
   "outputs": [],
   "source": [
    "models = ['Top', 'TopDoc', 'TopOP', 'All']\n",
    "sp_re_df = (pd.DataFrame(specrecf1)).T"
   ]
  },
  {
   "cell_type": "code",
   "execution_count": 57,
   "metadata": {},
   "outputs": [],
   "source": [
    "sp_re_df.columns = models"
   ]
  },
  {
   "cell_type": "code",
   "execution_count": 58,
   "metadata": {},
   "outputs": [
    {
     "data": {
      "text/plain": [
       "Text(0,0.5,'Score')"
      ]
     },
     "execution_count": 58,
     "metadata": {},
     "output_type": "execute_result"
    },
    {
     "data": {
      "image/png": "[encoded data removed]",
      "text/plain": [
       "<matplotlib.figure.Figure at 0x1a1ce3fb38>"
      ]
     },
     "metadata": {},
     "output_type": "display_data"
    }
   ],
   "source": [
    "sp_re_df.boxplot()\n",
    "plt.xlabel('Model')\n",
    "plt.ylabel('Score')"
   ]
  },
  {
   "cell_type": "markdown",
   "metadata": {},
   "source": [
    "### Threshold Tuning"
   ]
  },
  {
   "cell_type": "code",
   "execution_count": 59,
   "metadata": {},
   "outputs": [],
   "source": [
    "cols_final = topicfeat + usrfeat + docfeat"
   ]
  },
  {
   "cell_type": "code",
   "execution_count": 60,
   "metadata": {},
   "outputs": [],
   "source": [
    "Xholdout = X_main.iloc[:holdout_idx,:]\n",
    "yholdout = y_main[:holdout_idx]"
   ]
  },
  {
   "cell_type": "code",
   "execution_count": 61,
   "metadata": {},
   "outputs": [],
   "source": [
    "Xholdout = Xholdout[cols_final]"
   ]
  },
  {
   "cell_type": "code",
   "execution_count": 62,
   "metadata": {},
   "outputs": [],
   "source": [
    "Xfinal = X_main.iloc[holdout_idx:, :][cols_final]\n",
    "yfinal = y_main[holdout_idx:]"
   ]
  },
  {
   "cell_type": "code",
   "execution_count": 63,
   "metadata": {},
   "outputs": [],
   "source": [
    "lr = LogisticRegression(class_weight='balanced')\n",
    "sc = preprocessing.StandardScaler()\n",
    "Xfinal = sc.fit_transform(Xfinal)\n",
    "clf = lr.fit(Xfinal, yfinal) "
   ]
  },
  {
   "cell_type": "code",
   "execution_count": 64,
   "metadata": {},
   "outputs": [],
   "source": [
    "def eval_fits_by_thresh(clf, scaler, features, response, thresh):\n",
    "    X = sc.fit_transform(features)   \n",
    "    ypred = clf.predict_proba(X)[:,1] > thresh/100  \n",
    "    \n",
    "    rec = metrics.recall_score(response, ypred)    \n",
    "    TN, FP, FN, TP = confusion_matrix(response, ypred).ravel()\n",
    "    spec = TN/(TN+FP)\n",
    "    sp_rec = (2*rec*spec)/(rec+spec)\n",
    "\n",
    "    coefs = clf.coef_\n",
    "    \n",
    "    return rec, spec, sp_rec, coefs, ypred"
   ]
  },
  {
   "cell_type": "code",
   "execution_count": 88,
   "metadata": {},
   "outputs": [],
   "source": [
    "recs = []\n",
    "coef = []\n",
    "specs = []\n",
    "sp_rec = []\n",
    "\n",
    "t = list(range(0, 101, 1))"
   ]
  },
  {
   "cell_type": "code",
   "execution_count": 89,
   "metadata": {},
   "outputs": [],
   "source": [
    "for n in t:\n",
    "    rec, spec, sp_re, coefs, ypred = eval_fits_by_thresh(clf, sc, Xfinal, yfinal, n)\n",
    "    \n",
    "    recs.append(rec)\n",
    "    specs.append(spec)\n",
    "    sp_rec.append(sp_re)"
   ]
  },
  {
   "cell_type": "code",
   "execution_count": 107,
   "metadata": {},
   "outputs": [
    {
     "data": {
      "text/plain": [
       "0.5568627450980392"
      ]
     },
     "execution_count": 107,
     "metadata": {},
     "output_type": "execute_result"
    }
   ],
   "source": [
    "recs[51]"
   ]
  },
  {
   "cell_type": "code",
   "execution_count": 91,
   "metadata": {},
   "outputs": [
    {
     "data": {
      "text/plain": [
       "[0.0,\n",
       " 0.0,\n",
       " 0.0,\n",
       " 0.0,\n",
       " 0.0,\n",
       " 0.0,\n",
       " 0.0,\n",
       " 0.0,\n",
       " 0.0,\n",
       " 0.0,\n",
       " 0.0,\n",
       " 0.0,\n",
       " 0.0,\n",
       " 0.0,\n",
       " 0.0,\n",
       " 0.0,\n",
       " 0.0,\n",
       " 0.0,\n",
       " 0.0044444444444444444,\n",
       " 0.0044444444444444444,\n",
       " 0.013274336283185839,\n",
       " 0.013274336283185839,\n",
       " 0.026373626373626374,\n",
       " 0.030701754385964914,\n",
       " 0.030701754385964914,\n",
       " 0.0350109409190372,\n",
       " 0.05627705627705628,\n",
       " 0.06881720430107527,\n",
       " 0.07707609831754275,\n",
       " 0.08931419457735247,\n",
       " 0.11729069835362446,\n",
       " 0.12900004161291664,\n",
       " 0.15198455904186875,\n",
       " 0.1669526381899234,\n",
       " 0.196,\n",
       " 0.22057429064650247,\n",
       " 0.22976383480135715,\n",
       " 0.27888309717837645,\n",
       " 0.3215075473512162,\n",
       " 0.3652035115722267,\n",
       " 0.3942036419594768,\n",
       " 0.43348179322674807,\n",
       " 0.486567232781008,\n",
       " 0.4942024443748041,\n",
       " 0.5316984045684232,\n",
       " 0.5463456406884372,\n",
       " 0.5692051307187078,\n",
       " 0.5841096134831125,\n",
       " 0.5968625388896193,\n",
       " 0.6017764618800888,\n",
       " 0.6093843822377263,\n",
       " 0.6111071787539462,\n",
       " 0.601281670415482,\n",
       " 0.5923786057181698,\n",
       " 0.578251140129734,\n",
       " 0.5642513714443056,\n",
       " 0.5371386754482255,\n",
       " 0.5110775135198,\n",
       " 0.4793491864831039,\n",
       " 0.452133485326002,\n",
       " 0.43116840067200557,\n",
       " 0.3907613555767986,\n",
       " 0.37303785780240073,\n",
       " 0.3487867276533065,\n",
       " 0.30684309178130065,\n",
       " 0.2905869466143231,\n",
       " 0.2686710379018071,\n",
       " 0.24563097422033406,\n",
       " 0.24002877467828315,\n",
       " 0.22202235641783372,\n",
       " 0.21608486079025413,\n",
       " 0.19103002108017733,\n",
       " 0.13844503040234235,\n",
       " 0.12484040289402751,\n",
       " 0.11101343714680396,\n",
       " 0.0969404539971488,\n",
       " 0.08266826902732757,\n",
       " 0.0754396397927109,\n",
       " 0.06816093127744306,\n",
       " 0.053425513163861627,\n",
       " 0.04596990311276025,\n",
       " 0.03088482246420719,\n",
       " 0.030885896649709362,\n",
       " 0.023254604099469358,\n",
       " 0.023254604099469358,\n",
       " 0.023254604099469358,\n",
       " 0.0078124318809999205,\n",
       " 0.0078124318809999205,\n",
       " 0.0078125,\n",
       " 0.0078125,\n",
       " 0.0078125,\n",
       " 0.0,\n",
       " 0.0,\n",
       " 0.0,\n",
       " 0.0,\n",
       " 0.0,\n",
       " 0.0,\n",
       " 0.0,\n",
       " 0.0,\n",
       " 0.0,\n",
       " 0.0]"
      ]
     },
     "execution_count": 91,
     "metadata": {},
     "output_type": "execute_result"
    }
   ],
   "source": [
    "sp_rec"
   ]
  },
  {
   "cell_type": "code",
   "execution_count": 104,
   "metadata": {},
   "outputs": [
    {
     "data": {
      "text/plain": [
       "Text(0,0.5,'Modified F1')"
      ]
     },
     "execution_count": 104,
     "metadata": {},
     "output_type": "execute_result"
    },
    {
     "data": {
      "image/png": "[encoded data removed]",
      "text/plain": [
       "<matplotlib.figure.Figure at 0x1a1dcccb38>"
      ]
     },
     "metadata": {},
     "output_type": "display_data"
    }
   ],
   "source": [
    "plt.plot([s/100 for s in t], sp_rec)\n",
    "plt.xlabel('Threshold')\n",
    "plt.ylabel('Modified F1')"
   ]
  },
  {
   "cell_type": "code",
   "execution_count": 108,
   "metadata": {},
   "outputs": [
    {
     "data": {
      "text/plain": [
       "<matplotlib.legend.Legend at 0x1a1d1746d8>"
      ]
     },
     "execution_count": 108,
     "metadata": {},
     "output_type": "execute_result"
    },
    {
     "data": {
      "image/png": "[encoded data removed]",
      "text/plain": [
       "<matplotlib.figure.Figure at 0x1a1d44fc18>"
      ]
     },
     "metadata": {},
     "output_type": "display_data"
    }
   ],
   "source": [
    "plt.plot([s/100 for s in t], recs)\n",
    "plt.plot([s/100 for s in t], specs)\n",
    "plt.xlabel('Threshold')\n",
    "plt.legend(['Recall', 'Specificity'])"
   ]
  },
  {
   "cell_type": "code",
   "execution_count": 109,
   "metadata": {},
   "outputs": [
    {
     "data": {
      "text/plain": [
       "0.6093843822377263"
      ]
     },
     "execution_count": 109,
     "metadata": {},
     "output_type": "execute_result"
    }
   ],
   "source": [
    "sp_rec[50]"
   ]
  },
  {
   "cell_type": "code",
   "execution_count": 110,
   "metadata": {},
   "outputs": [
    {
     "data": {
      "text/plain": [
       "(0.5803921568627451, 0.6414253897550112)"
      ]
     },
     "execution_count": 110,
     "metadata": {},
     "output_type": "execute_result"
    }
   ],
   "source": [
    "recs[50], specs[50]"
   ]
  },
  {
   "cell_type": "code",
   "execution_count": 115,
   "metadata": {},
   "outputs": [
    {
     "data": {
      "text/plain": [
       "(0.6235294117647059, 0.5723830734966593)"
      ]
     },
     "execution_count": 115,
     "metadata": {},
     "output_type": "execute_result"
    }
   ],
   "source": [
    "recs[48], specs[48]"
   ]
  },
  {
   "cell_type": "code",
   "execution_count": 116,
   "metadata": {},
   "outputs": [
    {
     "data": {
      "text/plain": [
       "0.6017764618800888"
      ]
     },
     "execution_count": 116,
     "metadata": {},
     "output_type": "execute_result"
    }
   ],
   "source": [
    "(2*recs[49]*specs[49])/(recs[49] + specs[49])"
   ]
  },
  {
   "cell_type": "code",
   "execution_count": 69,
   "metadata": {},
   "outputs": [
    {
     "data": {
      "text/plain": [
       "11"
      ]
     },
     "execution_count": 69,
     "metadata": {},
     "output_type": "execute_result"
    }
   ],
   "source": [
    "np.argmax(sp_rec)"
   ]
  },
  {
   "cell_type": "code",
   "execution_count": 70,
   "metadata": {},
   "outputs": [
    {
     "data": {
      "text/plain": [
       "51"
      ]
     },
     "execution_count": 70,
     "metadata": {},
     "output_type": "execute_result"
    }
   ],
   "source": [
    "t[np.argmax(sp_rec)]"
   ]
  },
  {
   "cell_type": "markdown",
   "metadata": {},
   "source": [
    "### Final scoring"
   ]
  },
  {
   "cell_type": "code",
   "execution_count": 72,
   "metadata": {},
   "outputs": [],
   "source": [
    "rec, spec, sp_re, coefs, ypred = eval_fits_by_thresh(clf, sc, Xholdout, yholdout, t[np.argmax(sp_rec)])"
   ]
  },
  {
   "cell_type": "code",
   "execution_count": 73,
   "metadata": {
    "scrolled": true
   },
   "outputs": [
    {
     "data": {
      "text/plain": [
       "0.6052631578947368"
      ]
     },
     "execution_count": 73,
     "metadata": {},
     "output_type": "execute_result"
    }
   ],
   "source": [
    "rec"
   ]
  },
  {
   "cell_type": "code",
   "execution_count": 74,
   "metadata": {},
   "outputs": [
    {
     "data": {
      "text/plain": [
       "0.6896551724137931"
      ]
     },
     "execution_count": 74,
     "metadata": {},
     "output_type": "execute_result"
    }
   ],
   "source": [
    "spec"
   ]
  },
  {
   "cell_type": "code",
   "execution_count": 75,
   "metadata": {},
   "outputs": [
    {
     "data": {
      "text/plain": [
       "0.644709180098108"
      ]
     },
     "execution_count": 75,
     "metadata": {},
     "output_type": "execute_result"
    }
   ],
   "source": [
    "sp_re"
   ]
  },
  {
   "cell_type": "code",
   "execution_count": 76,
   "metadata": {},
   "outputs": [],
   "source": [
    "import itertools\n",
    "def plot_confusion_matrix(cm,title='Confusion matrix', cmap=plt.cm.Blues):\n",
    "    thresh = cm.max() / 2.\n",
    "    for i, j in itertools.product(range(cm.shape[0]), range(cm.shape[1])):\n",
    "        \n",
    "        plt.text(j, i, cm[i, j],\n",
    "                 horizontalalignment=\"center\",\n",
    "                 color=\"white\" if cm[i,j] > thresh else \"black\")\n",
    "    \n",
    "    plt.imshow(cm, interpolation='nearest',cmap=cmap)\n",
    "    #plt.title(title)\n",
    "    plt.colorbar()\n",
    "    plt.tight_layout()\n",
    "    plt.xticks(range(0,2))\n",
    "    plt.yticks(range(0,2))\n",
    "    plt.title('Confusion Matrix')\n",
    "    plt.ylabel('True label')\n",
    "    plt.xlabel('Predicted label')"
   ]
  },
  {
   "cell_type": "code",
   "execution_count": 79,
   "metadata": {},
   "outputs": [],
   "source": [
    "cm = confusion_matrix(yholdout, ypred)"
   ]
  },
  {
   "cell_type": "code",
   "execution_count": 129,
   "metadata": {},
   "outputs": [
    {
     "data": {
      "text/plain": [
       "([<matplotlib.axis.YTick at 0x1a1d78c780>,\n",
       "  <matplotlib.axis.YTick at 0x1a1d78c6a0>],\n",
       " <a list of 2 Text yticklabel objects>)"
      ]
     },
     "execution_count": 129,
     "metadata": {},
     "output_type": "execute_result"
    },
    {
     "data": {
      "image/png": "[encoded data removed]",
      "text/plain": [
       "<matplotlib.figure.Figure at 0x1a1d8182e8>"
      ]
     },
     "metadata": {},
     "output_type": "display_data"
    }
   ],
   "source": [
    "plot_confusion_matrix(cm,cmap=plt.cm.Blues)\n",
    "plt.title('All Features Confusion Matrix')\n",
    "plt.xticks([0,1], ['Not Useful', 'Useful'])\n",
    "plt.yticks([0,1], ['Not Useful', 'Useful'])"
   ]
  },
  {
   "cell_type": "markdown",
   "metadata": {},
   "source": [
    "### Final coefficients"
   ]
  },
  {
   "cell_type": "code",
   "execution_count": 81,
   "metadata": {},
   "outputs": [
    {
     "data": {
      "text/plain": [
       "[('GRE', 0.30757617600329834),\n",
       " ('sub_len', 0.2505020421718623),\n",
       " ('Programs3', 0.1832337781977057),\n",
       " ('Admissions2', -0.10314935291680062),\n",
       " ('time_from_deadline', -0.09191406479878508),\n",
       " ('Admissions1', 0.09024864279839898),\n",
       " ('Application', 0.08998860511196465),\n",
       " ('Offer', -0.08827709784060653),\n",
       " ('CS_Math', -0.07689971095853625),\n",
       " ('Schools2', 0.0757457390666576),\n",
       " ('op_age', 0.06762251887242196),\n",
       " ('Interview', 0.06453400339595265),\n",
       " ('Letter_of_Recommendation', 0.061962896543053925),\n",
       " ('Programs2', -0.051217273584519066),\n",
       " ('usr_snt', 0.0427649516759489),\n",
       " ('Programs1', 0.03657818102394301),\n",
       " ('Grades', 0.03528856849158669),\n",
       " ('Schools1', -0.00944766202276889),\n",
       " ('Research', 0.004854184511581987),\n",
       " ('op_karma', 0.0034765050632698303)]"
      ]
     },
     "execution_count": 81,
     "metadata": {},
     "output_type": "execute_result"
    }
   ],
   "source": [
    "a = list(topic_list.values())\n",
    "a.extend(usrfeat + docfeat)\n",
    "zipped = zip(a, np.ravel(coefs))\n",
    "#zipped = zip(topic_list.values(), np.ravel(coefs))\n",
    "coef = sorted(list(zipped), key=lambda tup: abs(tup[1]), reverse=True)\n",
    "coef"
   ]
  },
  {
   "cell_type": "code",
   "execution_count": 82,
   "metadata": {},
   "outputs": [
    {
     "data": {
      "text/plain": [
       "([<matplotlib.axis.YTick at 0x1a1d2f9588>,\n",
       "  <matplotlib.axis.YTick at 0x1a1d2f96d8>,\n",
       "  <matplotlib.axis.YTick at 0x1a1d318e10>,\n",
       "  <matplotlib.axis.YTick at 0x1a1d386278>,\n",
       "  <matplotlib.axis.YTick at 0x1a1d3869e8>,\n",
       "  <matplotlib.axis.YTick at 0x1a1d38c198>,\n",
       "  <matplotlib.axis.YTick at 0x1a1d38c908>,\n",
       "  <matplotlib.axis.YTick at 0x1a1d386ac8>,\n",
       "  <matplotlib.axis.YTick at 0x1a1d39b358>,\n",
       "  <matplotlib.axis.YTick at 0x1a1d39bbe0>,\n",
       "  <matplotlib.axis.YTick at 0x1a1d3a3390>,\n",
       "  <matplotlib.axis.YTick at 0x1a1d396278>,\n",
       "  <matplotlib.axis.YTick at 0x1a1d3a3a90>,\n",
       "  <matplotlib.axis.YTick at 0x1a1d3a7240>,\n",
       "  <matplotlib.axis.YTick at 0x1a1d3a79b0>,\n",
       "  <matplotlib.axis.YTick at 0x1a1d3ad160>,\n",
       "  <matplotlib.axis.YTick at 0x1a1d3ad8d0>,\n",
       "  <matplotlib.axis.YTick at 0x1a1d3b2080>,\n",
       "  <matplotlib.axis.YTick at 0x1a1d3b27f0>,\n",
       "  <matplotlib.axis.YTick at 0x1a1d3b2f60>],\n",
       " <a list of 20 Text yticklabel objects>)"
      ]
     },
     "execution_count": 82,
     "metadata": {},
     "output_type": "execute_result"
    },
    {
     "data": {
      "image/png": "[encoded data removed]",
      "text/plain": [
       "<matplotlib.figure.Figure at 0x1a1d182358>"
      ]
     },
     "metadata": {},
     "output_type": "display_data"
    }
   ],
   "source": [
    "coef_df = pd.DataFrame.from_records(coef)\n",
    "coef_df.plot.barh()\n",
    "plt.legend([])\n",
    "plt.yticks(range(0, len(coef_df)), coef_df[0])"
   ]
  },
  {
   "cell_type": "code",
   "execution_count": 83,
   "metadata": {},
   "outputs": [
    {
     "data": {
      "text/html": [
       "<div>\n",
       "<style scoped>\n",
       "    .dataframe tbody tr th:only-of-type {\n",
       "        vertical-align: middle;\n",
       "    }\n",
       "\n",
       "    .dataframe tbody tr th {\n",
       "        vertical-align: top;\n",
       "    }\n",
       "\n",
       "    .dataframe thead th {\n",
       "        text-align: right;\n",
       "    }\n",
       "</style>\n",
       "<table border=\"1\" class=\"dataframe\">\n",
       "  <thead>\n",
       "    <tr style=\"text-align: right;\">\n",
       "      <th></th>\n",
       "      <th>0</th>\n",
       "      <th>1</th>\n",
       "    </tr>\n",
       "  </thead>\n",
       "  <tbody>\n",
       "    <tr>\n",
       "      <th>0</th>\n",
       "      <td>GRE</td>\n",
       "      <td>0.307576</td>\n",
       "    </tr>\n",
       "    <tr>\n",
       "      <th>1</th>\n",
       "      <td>sub_len</td>\n",
       "      <td>0.250502</td>\n",
       "    </tr>\n",
       "    <tr>\n",
       "      <th>2</th>\n",
       "      <td>Programs3</td>\n",
       "      <td>0.183234</td>\n",
       "    </tr>\n",
       "    <tr>\n",
       "      <th>3</th>\n",
       "      <td>Admissions2</td>\n",
       "      <td>-0.103149</td>\n",
       "    </tr>\n",
       "    <tr>\n",
       "      <th>4</th>\n",
       "      <td>time_from_deadline</td>\n",
       "      <td>-0.091914</td>\n",
       "    </tr>\n",
       "    <tr>\n",
       "      <th>5</th>\n",
       "      <td>Admissions1</td>\n",
       "      <td>0.090249</td>\n",
       "    </tr>\n",
       "    <tr>\n",
       "      <th>6</th>\n",
       "      <td>Application</td>\n",
       "      <td>0.089989</td>\n",
       "    </tr>\n",
       "    <tr>\n",
       "      <th>7</th>\n",
       "      <td>Offer</td>\n",
       "      <td>-0.088277</td>\n",
       "    </tr>\n",
       "    <tr>\n",
       "      <th>8</th>\n",
       "      <td>CS_Math</td>\n",
       "      <td>-0.076900</td>\n",
       "    </tr>\n",
       "    <tr>\n",
       "      <th>9</th>\n",
       "      <td>Schools2</td>\n",
       "      <td>0.075746</td>\n",
       "    </tr>\n",
       "    <tr>\n",
       "      <th>10</th>\n",
       "      <td>op_age</td>\n",
       "      <td>0.067623</td>\n",
       "    </tr>\n",
       "    <tr>\n",
       "      <th>11</th>\n",
       "      <td>Interview</td>\n",
       "      <td>0.064534</td>\n",
       "    </tr>\n",
       "    <tr>\n",
       "      <th>12</th>\n",
       "      <td>Letter_of_Recommendation</td>\n",
       "      <td>0.061963</td>\n",
       "    </tr>\n",
       "    <tr>\n",
       "      <th>13</th>\n",
       "      <td>Programs2</td>\n",
       "      <td>-0.051217</td>\n",
       "    </tr>\n",
       "    <tr>\n",
       "      <th>14</th>\n",
       "      <td>usr_snt</td>\n",
       "      <td>0.042765</td>\n",
       "    </tr>\n",
       "    <tr>\n",
       "      <th>15</th>\n",
       "      <td>Programs1</td>\n",
       "      <td>0.036578</td>\n",
       "    </tr>\n",
       "    <tr>\n",
       "      <th>16</th>\n",
       "      <td>Grades</td>\n",
       "      <td>0.035289</td>\n",
       "    </tr>\n",
       "    <tr>\n",
       "      <th>17</th>\n",
       "      <td>Schools1</td>\n",
       "      <td>-0.009448</td>\n",
       "    </tr>\n",
       "    <tr>\n",
       "      <th>18</th>\n",
       "      <td>Research</td>\n",
       "      <td>0.004854</td>\n",
       "    </tr>\n",
       "    <tr>\n",
       "      <th>19</th>\n",
       "      <td>op_karma</td>\n",
       "      <td>0.003477</td>\n",
       "    </tr>\n",
       "  </tbody>\n",
       "</table>\n",
       "</div>"
      ],
      "text/plain": [
       "                           0         1\n",
       "0                        GRE  0.307576\n",
       "1                    sub_len  0.250502\n",
       "2                  Programs3  0.183234\n",
       "3                Admissions2 -0.103149\n",
       "4         time_from_deadline -0.091914\n",
       "5                Admissions1  0.090249\n",
       "6                Application  0.089989\n",
       "7                      Offer -0.088277\n",
       "8                    CS_Math -0.076900\n",
       "9                   Schools2  0.075746\n",
       "10                    op_age  0.067623\n",
       "11                 Interview  0.064534\n",
       "12  Letter_of_Recommendation  0.061963\n",
       "13                 Programs2 -0.051217\n",
       "14                   usr_snt  0.042765\n",
       "15                 Programs1  0.036578\n",
       "16                    Grades  0.035289\n",
       "17                  Schools1 -0.009448\n",
       "18                  Research  0.004854\n",
       "19                  op_karma  0.003477"
      ]
     },
     "execution_count": 83,
     "metadata": {},
     "output_type": "execute_result"
    }
   ],
   "source": [
    "coef_df"
   ]
  },
  {
   "cell_type": "code",
   "execution_count": null,
   "metadata": {},
   "outputs": [],
   "source": []
  }
 ],
 "metadata": {
  "kernelspec": {
   "display_name": "Python 3",
   "language": "python",
   "name": "python3"
  },
  "language_info": {
   "codemirror_mode": {
    "name": "ipython",
    "version": 3
   },
   "file_extension": ".py",
   "mimetype": "text/x-python",
   "name": "python",
   "nbconvert_exporter": "python",
   "pygments_lexer": "ipython3",
   "version": "3.6.4"
  }
 },
 "nbformat": 4,
 "nbformat_minor": 2
}
